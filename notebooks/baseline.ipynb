{
 "cells": [
  {
   "cell_type": "code",
   "execution_count": 1,
   "metadata": {},
   "outputs": [],
   "source": [
    "import os\n",
    "import pandas as pd\n",
    "import numpy as np\n",
    "import string\n",
    "from sklearn.preprocessing import LabelEncoder\n",
    "from sklearn.feature_selection import SelectKBest, chi2\n",
    "from sklearn.feature_extraction.text import TfidfVectorizer\n",
    "from sklearn.model_selection import train_test_split\n",
    "from sklearn.linear_model import SGDClassifier\n",
    "from sklearn.pipeline import Pipeline\n",
    "from sklearn.ensemble import RandomForestClassifier\n",
    "from sklearn import metrics"
   ]
  },
  {
   "cell_type": "code",
   "execution_count": 2,
   "metadata": {},
   "outputs": [],
   "source": [
    "base_path = '../data/PubMed_20k_RCT'\n",
    "dev_path = os.path.join(base_path, \"train.txt\")"
   ]
  },
  {
   "cell_type": "code",
   "execution_count": 3,
   "metadata": {},
   "outputs": [
    {
     "data": {
      "text/plain": [
       "['###24293578\\n',\n",
       " 'OBJECTIVE\\tTo investigate the efficacy of 6 weeks of daily low-dose oral prednisolone in improving pain , mobility , and systemic low-grade inflammation in the short term and whether the effect would be sustained at 12 weeks in older adults with moderate to severe knee osteoarthritis ( OA ) .\\n',\n",
       " 'METHODS\\tA total of 125 patients with primary knee OA were randomized 1:1 ; 63 received 7.5 mg/day of prednisolone and 62 received placebo for 6 weeks .\\n',\n",
       " 'METHODS\\tOutcome measures included pain reduction and improvement in function scores and systemic inflammation markers .\\n',\n",
       " 'METHODS\\tPain was assessed using the visual analog pain scale ( 0-100 mm ) .\\n',\n",
       " 'METHODS\\tSecondary outcome measures included the Western Ontario and McMaster Universities Osteoarthritis Index scores , patient global assessment ( PGA ) of the severity of knee OA , and 6-min walk distance ( 6MWD ) .\\n',\n",
       " 'METHODS\\tSerum levels of interleukin 1 ( IL-1 ) , IL-6 , tumor necrosis factor ( TNF ) - , and high-sensitivity C-reactive protein ( hsCRP ) were measured .\\n',\n",
       " 'RESULTS\\tThere was a clinically relevant reduction in the intervention group compared to the placebo group for knee pain , physical function , PGA , and 6MWD at 6 weeks .\\n',\n",
       " 'RESULTS\\tThe mean difference between treatment arms ( 95 % CI ) was 10.9 ( 4.8-18 .0 ) , p < 0.001 ; 9.5 ( 3.7-15 .4 ) , p < 0.05 ; 15.7 ( 5.3-26 .1 ) , p < 0.001 ; and 86.9 ( 29.8-144 .1 ) , p < 0.05 , respectively .\\n',\n",
       " 'RESULTS\\tFurther , there was a clinically relevant reduction in the serum levels of IL-1 , IL-6 , TNF - , and hsCRP at 6 weeks in the intervention group when compared to the placebo group .\\n']"
      ]
     },
     "execution_count": 3,
     "metadata": {},
     "output_type": "execute_result"
    }
   ],
   "source": [
    "lines = []\n",
    "with open(dev_path, \"r\") as f:\n",
    "    lines = f.readlines()\n",
    "lines[:10]"
   ]
  },
  {
   "cell_type": "code",
   "execution_count": 4,
   "metadata": {},
   "outputs": [
    {
     "name": "stdout",
     "output_type": "stream",
     "text": [
      "(180040, 2)\n"
     ]
    }
   ],
   "source": [
    "# preprocess dataset\n",
    "def process_text(text):\n",
    "    text = text.lower()\n",
    "    text = \"\".join([i for i in text if i not in string.punctuation])\n",
    "    # TODO maybe add stemming and lemmatisation?\n",
    "    return text\n",
    "\n",
    "labels = []\n",
    "texts = []\n",
    "tokens = []\n",
    "for line in lines:\n",
    "    if line.startswith(\"###\") or line.isspace():\n",
    "        continue\n",
    "    split = line.split(\"\\t\")\n",
    "    labels.append(split[0])\n",
    "    text = process_text(split[1])\n",
    "    texts.append(text)\n",
    "\n",
    "\n",
    "df = pd.DataFrame({\"label\": labels, \"text\": texts})\n",
    "print(df.shape)"
   ]
  },
  {
   "cell_type": "code",
   "execution_count": 6,
   "metadata": {},
   "outputs": [],
   "source": [
    "label_encoder = LabelEncoder()\n",
    "df[\"encoded_label\"]  = label_encoder.fit_transform(df[\"label\"])\n",
    "\n",
    "x_train, x_val, y_train, y_val = train_test_split(df[\"text\"], df[\"encoded_label\"], test_size=0.1, random_state=42)"
   ]
  },
  {
   "cell_type": "code",
   "execution_count": 7,
   "metadata": {},
   "outputs": [],
   "source": [
    "def print_metrics(pred_test, y_test, pred_train, y_train):\n",
    "    print(\"test accuracy\", str(np.mean(pred_test == y_test)))\n",
    "    print(\"train accuracy\", str(np.mean(pred_train == y_train)))\n",
    "    print(\"\\n Metrics and Confusion for SVM \\n\")\n",
    "    print(metrics.confusion_matrix(y_test, pred_test))\n",
    "    print(metrics.classification_report(y_test, pred_test))"
   ]
  },
  {
   "cell_type": "code",
   "execution_count": 8,
   "metadata": {},
   "outputs": [
    {
     "name": "stdout",
     "output_type": "stream",
     "text": [
      "test accuracy 0.7416685181070873\n",
      "train accuracy 0.9985805623441705\n",
      "\n",
      " Metrics and Confusion for SVM \n",
      "\n",
      "[[1017  424  381  218  163]\n",
      " [ 203 1578  304   36  603]\n",
      " [  68   84 5345   36  398]\n",
      " [ 257  173  219  646   60]\n",
      " [  55  219  746    4 4767]]\n",
      "              precision    recall  f1-score   support\n",
      "\n",
      "           0       0.64      0.46      0.53      2203\n",
      "           1       0.64      0.58      0.61      2724\n",
      "           2       0.76      0.90      0.83      5931\n",
      "           3       0.69      0.48      0.56      1355\n",
      "           4       0.80      0.82      0.81      5791\n",
      "\n",
      "    accuracy                           0.74     18004\n",
      "   macro avg       0.70      0.65      0.67     18004\n",
      "weighted avg       0.73      0.74      0.73     18004\n",
      "\n"
     ]
    }
   ],
   "source": [
    "pipeline = Pipeline([\n",
    "    (\"vect\", TfidfVectorizer(stop_words=\"english\")),\n",
    "    (\"chi\", SelectKBest(chi2, k=2000)),\n",
    "    (\"clf\", RandomForestClassifier())\n",
    "])\n",
    "\n",
    "pipeline.fit(x_train, y_train)\n",
    "pred_train = pipeline.predict(x_train)\n",
    "pred_val = pipeline.predict(x_val)\n",
    "print_metrics(pred_val, y_val, pred_train, y_train)"
   ]
  }
 ],
 "metadata": {
  "interpreter": {
   "hash": "839a46e1465077c84b39be122588b4a3bd8a9d0460a9ee420f218244ce5714a7"
  },
  "kernelspec": {
   "display_name": "Python 3.9.7 ('ml4h')",
   "language": "python",
   "name": "python3"
  },
  "language_info": {
   "codemirror_mode": {
    "name": "ipython",
    "version": 3
   },
   "file_extension": ".py",
   "mimetype": "text/x-python",
   "name": "python",
   "nbconvert_exporter": "python",
   "pygments_lexer": "ipython3",
   "version": "3.9.7"
  },
  "orig_nbformat": 4
 },
 "nbformat": 4,
 "nbformat_minor": 2
}
